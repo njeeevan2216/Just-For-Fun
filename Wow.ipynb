{
  "cells": [
    {
      "cell_type": "markdown",
      "metadata": {
        "id": "view-in-github",
        "colab_type": "text"
      },
      "source": [
        "<a href=\"https://colab.research.google.com/github/njeeevan2216/njeeevan2216/blob/main/Wow.ipynb\" target=\"_parent\"><img src=\"https://colab.research.google.com/assets/colab-badge.svg\" alt=\"Open In Colab\"/></a>"
      ]
    },
    {
      "cell_type": "code",
      "execution_count": null,
      "metadata": {
        "colab": {
          "base_uri": "https://localhost:8080/"
        },
        "id": "Gdi6sNKsKvXM",
        "outputId": "dee48e0b-67a0-4de9-b44a-cf9722734bc5"
      },
      "outputs": [
        {
          "output_type": "stream",
          "name": "stdout",
          "text": [
            "Mounted at /content/drive\n"
          ]
        }
      ],
      "source": [
        "from google.colab import drive\n",
        "drive.mount('/content/drive')"
      ]
    },
    {
      "cell_type": "code",
      "execution_count": null,
      "metadata": {
        "colab": {
          "base_uri": "https://localhost:8080/"
        },
        "id": "Pu0uDN45SdUN",
        "outputId": "f0ab1414-c962-4751-ea88-4e454eb853ee"
      },
      "outputs": [
        {
          "output_type": "stream",
          "name": "stdout",
          "text": [
            "Requirement already satisfied: google-api-python-client in /usr/local/lib/python3.10/dist-packages (2.137.0)\n",
            "Collecting yt-dlp\n",
            "  Downloading yt_dlp-2024.8.6-py3-none-any.whl.metadata (170 kB)\n",
            "\u001b[2K     \u001b[90m━━━━━━━━━━━━━━━━━━━━━━━━━━━━━━━━━━━━━━━━\u001b[0m \u001b[32m170.1/170.1 kB\u001b[0m \u001b[31m4.8 MB/s\u001b[0m eta \u001b[36m0:00:00\u001b[0m\n",
            "\u001b[?25hRequirement already satisfied: httplib2<1.dev0,>=0.19.0 in /usr/local/lib/python3.10/dist-packages (from google-api-python-client) (0.22.0)\n",
            "Requirement already satisfied: google-auth!=2.24.0,!=2.25.0,<3.0.0.dev0,>=1.32.0 in /usr/local/lib/python3.10/dist-packages (from google-api-python-client) (2.27.0)\n",
            "Requirement already satisfied: google-auth-httplib2<1.0.0,>=0.2.0 in /usr/local/lib/python3.10/dist-packages (from google-api-python-client) (0.2.0)\n",
            "Requirement already satisfied: google-api-core!=2.0.*,!=2.1.*,!=2.2.*,!=2.3.0,<3.0.0.dev0,>=1.31.5 in /usr/local/lib/python3.10/dist-packages (from google-api-python-client) (2.19.2)\n",
            "Requirement already satisfied: uritemplate<5,>=3.0.1 in /usr/local/lib/python3.10/dist-packages (from google-api-python-client) (4.1.1)\n",
            "Collecting brotli (from yt-dlp)\n",
            "  Downloading Brotli-1.1.0-cp310-cp310-manylinux_2_5_x86_64.manylinux1_x86_64.manylinux_2_12_x86_64.manylinux2010_x86_64.whl.metadata (5.5 kB)\n",
            "Requirement already satisfied: certifi in /usr/local/lib/python3.10/dist-packages (from yt-dlp) (2024.8.30)\n",
            "Collecting mutagen (from yt-dlp)\n",
            "  Downloading mutagen-1.47.0-py3-none-any.whl.metadata (1.7 kB)\n",
            "Collecting pycryptodomex (from yt-dlp)\n",
            "  Downloading pycryptodomex-3.20.0-cp35-abi3-manylinux_2_17_x86_64.manylinux2014_x86_64.whl.metadata (3.4 kB)\n",
            "Requirement already satisfied: requests<3,>=2.32.2 in /usr/local/lib/python3.10/dist-packages (from yt-dlp) (2.32.3)\n",
            "Requirement already satisfied: urllib3<3,>=1.26.17 in /usr/local/lib/python3.10/dist-packages (from yt-dlp) (2.0.7)\n",
            "Collecting websockets>=12.0 (from yt-dlp)\n",
            "  Downloading websockets-13.0.1-cp310-cp310-manylinux_2_5_x86_64.manylinux1_x86_64.manylinux_2_17_x86_64.manylinux2014_x86_64.whl.metadata (6.7 kB)\n",
            "Requirement already satisfied: googleapis-common-protos<2.0.dev0,>=1.56.2 in /usr/local/lib/python3.10/dist-packages (from google-api-core!=2.0.*,!=2.1.*,!=2.2.*,!=2.3.0,<3.0.0.dev0,>=1.31.5->google-api-python-client) (1.65.0)\n",
            "Requirement already satisfied: protobuf!=3.20.0,!=3.20.1,!=4.21.0,!=4.21.1,!=4.21.2,!=4.21.3,!=4.21.4,!=4.21.5,<6.0.0.dev0,>=3.19.5 in /usr/local/lib/python3.10/dist-packages (from google-api-core!=2.0.*,!=2.1.*,!=2.2.*,!=2.3.0,<3.0.0.dev0,>=1.31.5->google-api-python-client) (3.20.3)\n",
            "Requirement already satisfied: proto-plus<2.0.0dev,>=1.22.3 in /usr/local/lib/python3.10/dist-packages (from google-api-core!=2.0.*,!=2.1.*,!=2.2.*,!=2.3.0,<3.0.0.dev0,>=1.31.5->google-api-python-client) (1.24.0)\n",
            "Requirement already satisfied: cachetools<6.0,>=2.0.0 in /usr/local/lib/python3.10/dist-packages (from google-auth!=2.24.0,!=2.25.0,<3.0.0.dev0,>=1.32.0->google-api-python-client) (5.5.0)\n",
            "Requirement already satisfied: pyasn1-modules>=0.2.1 in /usr/local/lib/python3.10/dist-packages (from google-auth!=2.24.0,!=2.25.0,<3.0.0.dev0,>=1.32.0->google-api-python-client) (0.4.0)\n",
            "Requirement already satisfied: rsa<5,>=3.1.4 in /usr/local/lib/python3.10/dist-packages (from google-auth!=2.24.0,!=2.25.0,<3.0.0.dev0,>=1.32.0->google-api-python-client) (4.9)\n",
            "Requirement already satisfied: pyparsing!=3.0.0,!=3.0.1,!=3.0.2,!=3.0.3,<4,>=2.4.2 in /usr/local/lib/python3.10/dist-packages (from httplib2<1.dev0,>=0.19.0->google-api-python-client) (3.1.4)\n",
            "Requirement already satisfied: charset-normalizer<4,>=2 in /usr/local/lib/python3.10/dist-packages (from requests<3,>=2.32.2->yt-dlp) (3.3.2)\n",
            "Requirement already satisfied: idna<4,>=2.5 in /usr/local/lib/python3.10/dist-packages (from requests<3,>=2.32.2->yt-dlp) (3.8)\n",
            "Requirement already satisfied: pyasn1<0.7.0,>=0.4.6 in /usr/local/lib/python3.10/dist-packages (from pyasn1-modules>=0.2.1->google-auth!=2.24.0,!=2.25.0,<3.0.0.dev0,>=1.32.0->google-api-python-client) (0.6.0)\n",
            "Downloading yt_dlp-2024.8.6-py3-none-any.whl (3.1 MB)\n",
            "\u001b[2K   \u001b[90m━━━━━━━━━━━━━━━━━━━━━━━━━━━━━━━━━━━━━━━━\u001b[0m \u001b[32m3.1/3.1 MB\u001b[0m \u001b[31m46.6 MB/s\u001b[0m eta \u001b[36m0:00:00\u001b[0m\n",
            "\u001b[?25hDownloading websockets-13.0.1-cp310-cp310-manylinux_2_5_x86_64.manylinux1_x86_64.manylinux_2_17_x86_64.manylinux2014_x86_64.whl (157 kB)\n",
            "\u001b[2K   \u001b[90m━━━━━━━━━━━━━━━━━━━━━━━━━━━━━━━━━━━━━━━━\u001b[0m \u001b[32m157.3/157.3 kB\u001b[0m \u001b[31m8.4 MB/s\u001b[0m eta \u001b[36m0:00:00\u001b[0m\n",
            "\u001b[?25hDownloading Brotli-1.1.0-cp310-cp310-manylinux_2_5_x86_64.manylinux1_x86_64.manylinux_2_12_x86_64.manylinux2010_x86_64.whl (3.0 MB)\n",
            "\u001b[2K   \u001b[90m━━━━━━━━━━━━━━━━━━━━━━━━━━━━━━━━━━━━━━━━\u001b[0m \u001b[32m3.0/3.0 MB\u001b[0m \u001b[31m55.0 MB/s\u001b[0m eta \u001b[36m0:00:00\u001b[0m\n",
            "\u001b[?25hDownloading mutagen-1.47.0-py3-none-any.whl (194 kB)\n",
            "\u001b[2K   \u001b[90m━━━━━━━━━━━━━━━━━━━━━━━━━━━━━━━━━━━━━━━━\u001b[0m \u001b[32m194.4/194.4 kB\u001b[0m \u001b[31m11.4 MB/s\u001b[0m eta \u001b[36m0:00:00\u001b[0m\n",
            "\u001b[?25hDownloading pycryptodomex-3.20.0-cp35-abi3-manylinux_2_17_x86_64.manylinux2014_x86_64.whl (2.1 MB)\n",
            "\u001b[2K   \u001b[90m━━━━━━━━━━━━━━━━━━━━━━━━━━━━━━━━━━━━━━━━\u001b[0m \u001b[32m2.1/2.1 MB\u001b[0m \u001b[31m52.3 MB/s\u001b[0m eta \u001b[36m0:00:00\u001b[0m\n",
            "\u001b[?25hInstalling collected packages: brotli, websockets, pycryptodomex, mutagen, yt-dlp\n",
            "Successfully installed brotli-1.1.0 mutagen-1.47.0 pycryptodomex-3.20.0 websockets-13.0.1 yt-dlp-2024.8.6\n"
          ]
        }
      ],
      "source": [
        "!pip install google-api-python-client yt-dlp"
      ]
    },
    {
      "cell_type": "code",
      "execution_count": null,
      "metadata": {
        "colab": {
          "base_uri": "https://localhost:8080/"
        },
        "id": "KWHYkzi_pXW-",
        "outputId": "04b81587-1ef2-4c47-c126-0b864c984327"
      },
      "outputs": [
        {
          "output_type": "stream",
          "name": "stdout",
          "text": [
            "Enter search query: https://www.youtube.com/watch?v=pC5ca2YuKlU\n",
            "\n",
            "Search results:\n",
            "\n",
            "1. 98th Birthday of Bhagawan Sri Sathya Sai Baba | Nov 23, 2023 | Morning | Prasanthi Nilayam (https://www.youtube.com/watch?v=pC5ca2YuKlU)\n",
            "\n",
            "Enter the number of the video you want to download: 1\n",
            "====================================\n",
            "\n",
            "Options....\n",
            "1)Audio (mp3)\n",
            "2)Video (mp4)\n",
            "3)Video with Subtitle (mkv)\n",
            "Enter your Choice: 2\n",
            "====================================\n",
            "\n",
            "\n",
            "[youtube] Extracting URL: https://www.youtube.com/watch?v=pC5ca2YuKlU\n",
            "[youtube] pC5ca2YuKlU: Downloading webpage\n",
            "[youtube] pC5ca2YuKlU: Downloading ios player API JSON\n",
            "[youtube] pC5ca2YuKlU: Downloading web creator player API JSON\n",
            "[youtube] pC5ca2YuKlU: Downloading player 5f8f5b0f\n",
            "[youtube] pC5ca2YuKlU: Downloading m3u8 information\n",
            "[info] pC5ca2YuKlU: Downloading 1 format(s): 303+251\n",
            "[download] Destination: /content/drive/MyDrive/downloads/98th Birthday of Bhagawan Sri Sathya Sai Baba ｜ Nov 23, 2023 ｜ Morning ｜ Prasanthi Nilayam.f303.webm\n",
            "[download] 100% of    4.06GiB in 00:02:14 at 31.04MiB/s  \n",
            "[download] Destination: /content/drive/MyDrive/downloads/98th Birthday of Bhagawan Sri Sathya Sai Baba ｜ Nov 23, 2023 ｜ Morning ｜ Prasanthi Nilayam.f251.webm\n",
            "[download] 100% of  185.25MiB in 00:00:11 at 16.77MiB/s  \n",
            "[Merger] Merging formats into \"/content/drive/MyDrive/downloads/98th Birthday of Bhagawan Sri Sathya Sai Baba ｜ Nov 23, 2023 ｜ Morning ｜ Prasanthi Nilayam.mp4\"\n",
            "Deleting original file /content/drive/MyDrive/downloads/98th Birthday of Bhagawan Sri Sathya Sai Baba ｜ Nov 23, 2023 ｜ Morning ｜ Prasanthi Nilayam.f303.webm (pass -k to keep)\n",
            "Deleting original file /content/drive/MyDrive/downloads/98th Birthday of Bhagawan Sri Sathya Sai Baba ｜ Nov 23, 2023 ｜ Morning ｜ Prasanthi Nilayam.f251.webm (pass -k to keep)\n",
            "Download completed!\n"
          ]
        }
      ],
      "source": [
        "import os\n",
        "import yt_dlp\n",
        "from googleapiclient.discovery import build\n",
        "\n",
        "api_key = 'YOUR_API_HERE'\n",
        "youtube = build('youtube', 'v3', developerKey=api_key)\n",
        "\n",
        "def search_videos(query, max_results=10):\n",
        "    request = youtube.search().list(\n",
        "        q=query,\n",
        "        part='snippet',\n",
        "        type='video',\n",
        "        maxResults=max_results\n",
        "    )\n",
        "    response = request.execute()\n",
        "    return response['items']\n",
        "\n",
        "\n",
        "def download_audio(url, output_path):\n",
        "    \"\"\"ydl_opts = {\n",
        "    'format': 'bestaudio/best',\n",
        "    'postprocessors': [{\n",
        "        'key': 'FFmpegExtractAudio',\n",
        "        'preferredcodec': 'mp3',\n",
        "        'preferredquality': '192',\n",
        "    }, {\n",
        "        'key': 'FFmpegMetadata',\n",
        "    }, {\n",
        "        'key': 'EmbedThumbnail',\n",
        "    }],\n",
        "    'addmetadata': True,\n",
        "    'embedthumbnail': True,\n",
        "    'outtmpl': '%(title)s.%(ext)s',  # Output filename\n",
        "    }\"\"\"\n",
        "\n",
        "    ydl_opts = {\n",
        "        'format': 'bestaudio/best',\n",
        "        'postprocessors': [{\n",
        "            'key': 'FFmpegExtractAudio',\n",
        "            'preferredcodec': 'mp3',\n",
        "            'preferredquality': '320',\n",
        "    }, {\n",
        "        'key': 'FFmpegMetadata',\n",
        "    }, {\n",
        "        'key': 'EmbedThumbnail',\n",
        "    }],\n",
        "        'addmetadata': True,\n",
        "        'embedthumbnail': True,\n",
        "        'outtmpl': output_path\n",
        "    }\n",
        "\n",
        "    with yt_dlp.YoutubeDL(ydl_opts) as ydl:\n",
        "        ydl.download([url])\n",
        "\n",
        "def download_high_resolution_video_with_subtitles(url):\n",
        "    ydl_opts = {\n",
        "        'format': 'bestvideo+bestaudio/best',\n",
        "        'merge_output_format': 'mkv',\n",
        "        'outtmpl': '/content/drive/MyDrive/downloads/%(title)s.%(ext)s',\n",
        "        'subtitleslangs': ['en'],\n",
        "        'writeautomaticsub': True,\n",
        "        'writesubtitles': True,\n",
        "        'postprocessors': [{\n",
        "            'key': 'FFmpegEmbedSubtitle',\n",
        "        }],\n",
        "    }\n",
        "\n",
        "    with yt_dlp.YoutubeDL(ydl_opts) as ydl:\n",
        "        ydl.download([url])\n",
        "\n",
        "def download_video(url, output_path):\n",
        "    ydl_opts = {\n",
        "        'format': 'bestvideo+bestaudio/best',\n",
        "        'merge_output_format': 'mp4',\n",
        "        'outtmpl': f'{output_path}.%(ext)s',\n",
        "    }\n",
        "\n",
        "    with yt_dlp.YoutubeDL(ydl_opts) as ydl:\n",
        "        ydl.download([url])\n",
        "\n",
        "\n",
        "if __name__ == \"__main__\":\n",
        "    search_query = input(\"Enter search query: \")\n",
        "    videos = search_videos(search_query)\n",
        "\n",
        "    print(\"\\nSearch results:\\n\")\n",
        "    for idx, video in enumerate(videos):\n",
        "        print(f\"{idx + 1}. {video['snippet']['title']} (https://www.youtube.com/watch?v={video['id']['videoId']})\")\n",
        "\n",
        "    choice = int(input(\"\\nEnter the number of the video you want to download: \")) - 1\n",
        "\n",
        "    if 0 <= choice < len(videos):\n",
        "        video_url = f\"https://www.youtube.com/watch?v={videos[choice]['id']['videoId']}\"\n",
        "    else:\n",
        "        print(\"Invalid choice.\")\n",
        "    output_path = '/content/drive/MyDrive/downloads/%(title)s'\n",
        "    choi= input(\"====================================\\n\\nOptions....\\n1)Audio (mp3)\\n2)Video (mp4)\\n3)Video with Subtitle (mkv)\\nEnter your Choice: \")\n",
        "    print(\"====================================\\n\\n\")\n",
        "    if choi==\"1\":\n",
        "        download_audio(video_url, output_path)\n",
        "    elif choi==\"2\":\n",
        "        download_video(video_url, output_path)\n",
        "    elif choi==\"3\":\n",
        "        download_high_resolution_video_with_subtitles(video_url)\n",
        "    else:\n",
        "        print(\"Invalid choice\")\n",
        "    print(\"Download completed!\")\n"
      ]
    },
    {
      "cell_type": "code",
      "execution_count": null,
      "metadata": {
        "colab": {
          "base_uri": "https://localhost:8080/"
        },
        "id": "U4o8cAfOS3w1",
        "outputId": "a10f828c-d5a3-494f-cfbe-87c14771d425"
      },
      "outputs": [
        {
          "output_type": "stream",
          "name": "stdout",
          "text": [
            "Get:1 https://cloud.r-project.org/bin/linux/ubuntu jammy-cran40/ InRelease [3,626 B]\n",
            "Get:2 https://developer.download.nvidia.com/compute/cuda/repos/ubuntu2204/x86_64  InRelease [1,581 B]\n",
            "Hit:3 http://archive.ubuntu.com/ubuntu jammy InRelease\n",
            "Get:4 http://security.ubuntu.com/ubuntu jammy-security InRelease [129 kB]\n",
            "Ign:5 https://r2u.stat.illinois.edu/ubuntu jammy InRelease\n",
            "Get:6 https://r2u.stat.illinois.edu/ubuntu jammy Release [5,713 B]\n",
            "Get:7 http://archive.ubuntu.com/ubuntu jammy-updates InRelease [128 kB]\n",
            "Get:8 https://r2u.stat.illinois.edu/ubuntu jammy Release.gpg [793 B]\n",
            "Hit:9 https://ppa.launchpadcontent.net/deadsnakes/ppa/ubuntu jammy InRelease\n",
            "Hit:10 https://ppa.launchpadcontent.net/graphics-drivers/ppa/ubuntu jammy InRelease\n",
            "Get:11 https://developer.download.nvidia.com/compute/cuda/repos/ubuntu2204/x86_64  Packages [976 kB]\n",
            "Hit:12 https://ppa.launchpadcontent.net/ubuntugis/ppa/ubuntu jammy InRelease\n",
            "Hit:13 http://archive.ubuntu.com/ubuntu jammy-backports InRelease\n",
            "Get:14 https://r2u.stat.illinois.edu/ubuntu jammy/main all Packages [8,288 kB]\n",
            "Get:15 https://r2u.stat.illinois.edu/ubuntu jammy/main amd64 Packages [2,569 kB]\n",
            "Get:16 http://archive.ubuntu.com/ubuntu jammy-updates/main amd64 Packages [2,499 kB]\n",
            "Fetched 14.6 MB in 3s (4,946 kB/s)\n",
            "Reading package lists... Done\n",
            "W: Skipping acquire of configured file 'main/source/Sources' as repository 'https://r2u.stat.illinois.edu/ubuntu jammy InRelease' does not seem to provide it (sources.list entry misspelt?)\n",
            "Reading package lists... Done\n",
            "Building dependency tree... Done\n",
            "Reading state information... Done\n",
            "The following additional packages will be installed:\n",
            "  libaria2-0 libc-ares2\n",
            "The following NEW packages will be installed:\n",
            "  aria2 libaria2-0 libc-ares2\n",
            "0 upgraded, 3 newly installed, 0 to remove and 49 not upgraded.\n",
            "Need to get 1,513 kB of archives.\n",
            "After this operation, 5,441 kB of additional disk space will be used.\n",
            "Get:1 http://archive.ubuntu.com/ubuntu jammy-updates/main amd64 libc-ares2 amd64 1.18.1-1ubuntu0.22.04.3 [45.1 kB]\n",
            "Get:2 http://archive.ubuntu.com/ubuntu jammy/universe amd64 libaria2-0 amd64 1.36.0-1 [1,086 kB]\n",
            "Get:3 http://archive.ubuntu.com/ubuntu jammy/universe amd64 aria2 amd64 1.36.0-1 [381 kB]\n",
            "Fetched 1,513 kB in 1s (1,745 kB/s)\n",
            "debconf: unable to initialize frontend: Dialog\n",
            "debconf: (No usable dialog-like program is installed, so the dialog based frontend cannot be used. at /usr/share/perl5/Debconf/FrontEnd/Dialog.pm line 78, <> line 3.)\n",
            "debconf: falling back to frontend: Readline\n",
            "debconf: unable to initialize frontend: Readline\n",
            "debconf: (This frontend requires a controlling tty.)\n",
            "debconf: falling back to frontend: Teletype\n",
            "dpkg-preconfigure: unable to re-open stdin: \n",
            "Selecting previously unselected package libc-ares2:amd64.\n",
            "(Reading database ... 123597 files and directories currently installed.)\n",
            "Preparing to unpack .../libc-ares2_1.18.1-1ubuntu0.22.04.3_amd64.deb ...\n",
            "Unpacking libc-ares2:amd64 (1.18.1-1ubuntu0.22.04.3) ...\n",
            "Selecting previously unselected package libaria2-0:amd64.\n",
            "Preparing to unpack .../libaria2-0_1.36.0-1_amd64.deb ...\n",
            "Unpacking libaria2-0:amd64 (1.36.0-1) ...\n",
            "Selecting previously unselected package aria2.\n",
            "Preparing to unpack .../aria2_1.36.0-1_amd64.deb ...\n",
            "Unpacking aria2 (1.36.0-1) ...\n",
            "Setting up libc-ares2:amd64 (1.18.1-1ubuntu0.22.04.3) ...\n",
            "Setting up libaria2-0:amd64 (1.36.0-1) ...\n",
            "Setting up aria2 (1.36.0-1) ...\n",
            "Processing triggers for man-db (2.10.2-1) ...\n",
            "Processing triggers for libc-bin (2.35-0ubuntu3.4) ...\n",
            "/sbin/ldconfig.real: /usr/local/lib/libur_adapter_level_zero.so.0 is not a symbolic link\n",
            "\n",
            "/sbin/ldconfig.real: /usr/local/lib/libtbbbind_2_0.so.3 is not a symbolic link\n",
            "\n",
            "/sbin/ldconfig.real: /usr/local/lib/libtbbmalloc_proxy.so.2 is not a symbolic link\n",
            "\n",
            "/sbin/ldconfig.real: /usr/local/lib/libur_loader.so.0 is not a symbolic link\n",
            "\n",
            "/sbin/ldconfig.real: /usr/local/lib/libtbb.so.12 is not a symbolic link\n",
            "\n",
            "/sbin/ldconfig.real: /usr/local/lib/libur_adapter_opencl.so.0 is not a symbolic link\n",
            "\n",
            "/sbin/ldconfig.real: /usr/local/lib/libtbbbind.so.3 is not a symbolic link\n",
            "\n",
            "/sbin/ldconfig.real: /usr/local/lib/libtbbmalloc.so.2 is not a symbolic link\n",
            "\n",
            "/sbin/ldconfig.real: /usr/local/lib/libtbbbind_2_5.so.3 is not a symbolic link\n",
            "\n"
          ]
        }
      ],
      "source": [
        "!sudo apt-get update\n",
        "!sudo apt install aria2"
      ]
    },
    {
      "cell_type": "code",
      "execution_count": null,
      "metadata": {
        "id": "uUoGjeBJWH6s",
        "colab": {
          "base_uri": "https://localhost:8080/"
        },
        "outputId": "b25a7918-9fff-4e4d-e7e1-79c2426407c8"
      },
      "outputs": [
        {
          "output_type": "stream",
          "name": "stdout",
          "text": [
            "\n",
            "08/16 06:27:10 [\u001b[1;32mNOTICE\u001b[0m] Downloading 1 item(s)\n",
            "\n",
            "08/16 06:27:10 [\u001b[1;31mERROR\u001b[0m] CUID#7 - Download aborted. URI=https://88-99-253-237.top/Getintopc.com/Ableton_Live_Suite_12.0.1.rar\n",
            "Exception: [AbstractCommand.cc:351] errorCode=3 URI=https://88-99-253-237.top/Getintopc.com/Ableton_Live_Suite_12.0.1.rar\n",
            "  -> [HttpSkipResponseCommand.cc:218] errorCode=3 Resource not found\n",
            "\n",
            "08/16 06:27:10 [\u001b[1;32mNOTICE\u001b[0m] Download GID#f46f97af453c07dc not complete: \n",
            "\n",
            "Download Results:\n",
            "gid   |stat|avg speed  |path/URI\n",
            "======+====+===========+=======================================================\n",
            "f46f97|\u001b[1;31mERR\u001b[0m |       0B/s|https://88-99-253-237.top/Getintopc.com/Ableton_Live_Suite_12.0.1.rar\n",
            "\n",
            "Status Legend:\n",
            "(ERR):error occurred.\n",
            "\n",
            "aria2 will resume download if the transfer is restarted.\n",
            "If there are any errors, then see the log file. See '-l' option in help/man page for details.\n",
            "cp: cannot stat '/content/Ableton_Live_Suite_12.0.1.rar': No such file or directory\n"
          ]
        }
      ],
      "source": [
        "!aria2c https://88-99-253-237.top/Getintopc.com/Ableton_Live_Suite_12.0.1.rar\n",
        "!cp /content/Ableton_Live_Suite_12.0.1.rar /content/drive/MyDrive/downloads/Ableton_Live_Suite_12.0.1.rar"
      ]
    },
    {
      "cell_type": "code",
      "execution_count": null,
      "metadata": {
        "id": "dfi9_BMyWNUl"
      },
      "outputs": [],
      "source": [
        "!cp /content/horizon-forbidden-west-secondary-keyart-3840x2160-desktop-en-04feb22.jpg /content/drive/MyDrive/downloads/horizon-forbidden-west-secondary-keyart-3840x2160-desktop-en-04feb22.jpg"
      ]
    },
    {
      "cell_type": "code",
      "execution_count": null,
      "metadata": {
        "colab": {
          "base_uri": "https://localhost:8080/"
        },
        "id": "c8Z7_Qq1WtNe",
        "outputId": "7e116cb0-93ef-4b13-9140-62ec2ef5a838"
      },
      "outputs": [
        {
          "name": "stdout",
          "output_type": "stream",
          "text": [
            "[youtube] Extracting URL: https://www.youtube.com/watch?v=xU2U73Tk-DM\n",
            "[youtube] xU2U73Tk-DM: Downloading webpage\n",
            "[youtube] xU2U73Tk-DM: Downloading ios player API JSON\n",
            "[youtube] xU2U73Tk-DM: Downloading tv player API JSON\n",
            "[youtube] xU2U73Tk-DM: Downloading player d2e656ee\n",
            "[youtube] xU2U73Tk-DM: Downloading m3u8 information\n",
            "[info] xU2U73Tk-DM: Downloading 1 format(s): 251\n",
            "[download] Destination: /content/drive/MyDrive/downloads/Can’t Slow Me Down ⧸⧸ Jett Hype Music Video - VALORANT\n",
            "[download] 100% of    2.22MiB in 00:00:00 at 7.17MiB/s   \n",
            "[ExtractAudio] Destination: /content/drive/MyDrive/downloads/Can’t Slow Me Down ⧸⧸ Jett Hype Music Video - VALORANT.mp3\n",
            "Deleting original file /content/drive/MyDrive/downloads/Can’t Slow Me Down ⧸⧸ Jett Hype Music Video - VALORANT (pass -k to keep)\n",
            "[youtube] Extracting URL: https://www.youtube.com/watch?v=xU2U73Tk-DM\n",
            "[youtube] xU2U73Tk-DM: Downloading webpage\n",
            "[youtube] xU2U73Tk-DM: Downloading ios player API JSON\n",
            "[youtube] xU2U73Tk-DM: Downloading tv player API JSON\n",
            "[youtube] xU2U73Tk-DM: Downloading m3u8 information\n",
            "[info] xU2U73Tk-DM: Downloading subtitles: en\n",
            "[info] xU2U73Tk-DM: Downloading 1 format(s): 303+251\n",
            "[info] Writing video subtitles to: /content/drive/MyDrive/downloads/Can’t Slow Me Down ⧸⧸ Jett Hype Music Video - VALORANT.en.vtt\n",
            "[download] Destination: /content/drive/MyDrive/downloads/Can’t Slow Me Down ⧸⧸ Jett Hype Music Video - VALORANT.en.vtt\n",
            "[download] 100% of    1.21KiB in 00:00:00 at 20.34KiB/s\n",
            "[download] Destination: /content/drive/MyDrive/downloads/Can’t Slow Me Down ⧸⧸ Jett Hype Music Video - VALORANT.f303.webm\n",
            "[download] 100% of   60.80MiB in 00:00:01 at 38.27MiB/s  \n",
            "[download] Destination: /content/drive/MyDrive/downloads/Can’t Slow Me Down ⧸⧸ Jett Hype Music Video - VALORANT.f251.webm\n",
            "[download] 100% of    2.22MiB in 00:00:00 at 17.68MiB/s  \n",
            "[Merger] Merging formats into \"/content/drive/MyDrive/downloads/Can’t Slow Me Down ⧸⧸ Jett Hype Music Video - VALORANT.mkv\"\n",
            "Deleting original file /content/drive/MyDrive/downloads/Can’t Slow Me Down ⧸⧸ Jett Hype Music Video - VALORANT.f251.webm (pass -k to keep)\n",
            "Deleting original file /content/drive/MyDrive/downloads/Can’t Slow Me Down ⧸⧸ Jett Hype Music Video - VALORANT.f303.webm (pass -k to keep)\n",
            "[EmbedSubtitle] Embedding subtitles in \"/content/drive/MyDrive/downloads/Can’t Slow Me Down ⧸⧸ Jett Hype Music Video - VALORANT.mkv\"\n",
            "Deleting original file /content/drive/MyDrive/downloads/Can’t Slow Me Down ⧸⧸ Jett Hype Music Video - VALORANT.en.vtt (pass -k to keep)\n",
            "[youtube] Extracting URL: https://www.youtube.com/watch?v=CdZN8PI3MqM\n",
            "[youtube] CdZN8PI3MqM: Downloading webpage\n",
            "[youtube] CdZN8PI3MqM: Downloading ios player API JSON\n",
            "[youtube] CdZN8PI3MqM: Downloading tv player API JSON\n",
            "[youtube] CdZN8PI3MqM: Downloading m3u8 information\n",
            "[info] CdZN8PI3MqM: Downloading 1 format(s): 251\n",
            "[download] Destination: /content/drive/MyDrive/downloads/Ticking Away ft. Grabbitz & bbno$ (Official Music Video) ⧸⧸ VALORANT Champions 2023 Anthem\n",
            "[download] 100% of    3.12MiB in 00:00:00 at 9.70MiB/s   \n",
            "[ExtractAudio] Destination: /content/drive/MyDrive/downloads/Ticking Away ft. Grabbitz & bbno$ (Official Music Video) ⧸⧸ VALORANT Champions 2023 Anthem.mp3\n",
            "Deleting original file /content/drive/MyDrive/downloads/Ticking Away ft. Grabbitz & bbno$ (Official Music Video) ⧸⧸ VALORANT Champions 2023 Anthem (pass -k to keep)\n",
            "[youtube] Extracting URL: https://www.youtube.com/watch?v=CdZN8PI3MqM\n",
            "[youtube] CdZN8PI3MqM: Downloading webpage\n",
            "[youtube] CdZN8PI3MqM: Downloading ios player API JSON\n",
            "[youtube] CdZN8PI3MqM: Downloading tv player API JSON\n",
            "[youtube] CdZN8PI3MqM: Downloading m3u8 information\n",
            "[info] CdZN8PI3MqM: Downloading 1 format(s): 313+251\n",
            "[info] There are no subtitles for the requested languages\n",
            "[download] Destination: /content/drive/MyDrive/downloads/Ticking Away ft. Grabbitz & bbno$ (Official Music Video) ⧸⧸ VALORANT Champions 2023 Anthem.f313.webm\n",
            "[download] 100% of  239.57MiB in 00:00:06 at 37.75MiB/s  \n",
            "[download] Destination: /content/drive/MyDrive/downloads/Ticking Away ft. Grabbitz & bbno$ (Official Music Video) ⧸⧸ VALORANT Champions 2023 Anthem.f251.webm\n",
            "[download] 100% of    3.12MiB in 00:00:01 at 1.67MiB/s   \n",
            "[Merger] Merging formats into \"/content/drive/MyDrive/downloads/Ticking Away ft. Grabbitz & bbno$ (Official Music Video) ⧸⧸ VALORANT Champions 2023 Anthem.mkv\"\n",
            "Deleting original file /content/drive/MyDrive/downloads/Ticking Away ft. Grabbitz & bbno$ (Official Music Video) ⧸⧸ VALORANT Champions 2023 Anthem.f251.webm (pass -k to keep)\n",
            "Deleting original file /content/drive/MyDrive/downloads/Ticking Away ft. Grabbitz & bbno$ (Official Music Video) ⧸⧸ VALORANT Champions 2023 Anthem.f313.webm (pass -k to keep)\n",
            "[EmbedSubtitle] There aren't any subtitles to embed\n"
          ]
        }
      ],
      "source": [
        "list=[\"https://www.youtube.com/watch?v=xU2U73Tk-DM\",\"https://www.youtube.com/watch?v=CdZN8PI3MqM\"]\n",
        "for i in list:\n",
        "  download_audio(i, '/content/drive/MyDrive/downloads/%(title)s')\n",
        "  download_high_resolution_video_with_subtitles(i)"
      ]
    },
    {
      "cell_type": "code",
      "execution_count": null,
      "metadata": {
        "id": "DH81Y4BW17tQ"
      },
      "outputs": [],
      "source": [
        "!rm /content/drive/MyDrive/downloads/Laptop\\ பாவங்கள்\\ 😂｜\\ படிக்காத\\ தற்குறி\\ பயலே\\ ft\\ @Tharunkumar_\\ 😅.mp4"
      ]
    },
    {
      "cell_type": "code",
      "execution_count": null,
      "metadata": {
        "colab": {
          "base_uri": "https://localhost:8080/"
        },
        "id": "f_MVdlTOTfpH",
        "outputId": "6f018685-e515-4d0f-9e39-2c6fe377f230"
      },
      "outputs": [
        {
          "name": "stdout",
          "output_type": "stream",
          "text": [
            "\r0% [Working]\r            \rGet:1 https://cloud.r-project.org/bin/linux/ubuntu jammy-cran40/ InRelease [3,626 B]\n",
            "Hit:2 https://developer.download.nvidia.com/compute/cuda/repos/ubuntu2204/x86_64  InRelease\n",
            "Hit:3 http://archive.ubuntu.com/ubuntu jammy InRelease\n",
            "Get:4 http://security.ubuntu.com/ubuntu jammy-security InRelease [129 kB]\n",
            "Get:5 http://archive.ubuntu.com/ubuntu jammy-updates InRelease [128 kB]\n",
            "Ign:6 https://r2u.stat.illinois.edu/ubuntu jammy InRelease\n",
            "Get:7 https://r2u.stat.illinois.edu/ubuntu jammy Release [5,713 B]\n",
            "Hit:8 https://ppa.launchpadcontent.net/deadsnakes/ppa/ubuntu jammy InRelease\n",
            "Get:9 https://r2u.stat.illinois.edu/ubuntu jammy Release.gpg [793 B]\n",
            "Hit:10 https://ppa.launchpadcontent.net/graphics-drivers/ppa/ubuntu jammy InRelease\n",
            "Hit:11 http://archive.ubuntu.com/ubuntu jammy-backports InRelease\n",
            "Get:12 http://security.ubuntu.com/ubuntu jammy-security/main amd64 Packages [2,173 kB]\n",
            "Hit:13 https://ppa.launchpadcontent.net/ubuntugis/ppa/ubuntu jammy InRelease\n",
            "Get:14 http://archive.ubuntu.com/ubuntu jammy-updates/universe amd64 Packages [1,423 kB]\n",
            "Get:15 https://r2u.stat.illinois.edu/ubuntu jammy/main amd64 Packages [2,553 kB]\n",
            "Get:16 http://security.ubuntu.com/ubuntu jammy-security/universe amd64 Packages [1,134 kB]\n",
            "Get:17 http://archive.ubuntu.com/ubuntu jammy-updates/main amd64 Packages [2,449 kB]\n",
            "Fetched 9,999 kB in 4s (2,474 kB/s)\n",
            "Reading package lists... Done\n",
            "W: Skipping acquire of configured file 'main/source/Sources' as repository 'https://r2u.stat.illinois.edu/ubuntu jammy InRelease' does not seem to provide it (sources.list entry misspelt?)\n",
            "Reading package lists... Done\n",
            "Building dependency tree... Done\n",
            "Reading state information... Done\n",
            "The following additional packages will be installed:\n",
            "  libaria2-0 libc-ares2\n",
            "The following NEW packages will be installed:\n",
            "  aria2 libaria2-0 libc-ares2\n",
            "0 upgraded, 3 newly installed, 0 to remove and 47 not upgraded.\n",
            "Need to get 1,513 kB of archives.\n",
            "After this operation, 5,441 kB of additional disk space will be used.\n",
            "Get:1 http://archive.ubuntu.com/ubuntu jammy-updates/main amd64 libc-ares2 amd64 1.18.1-1ubuntu0.22.04.3 [45.1 kB]\n",
            "Get:2 http://archive.ubuntu.com/ubuntu jammy/universe amd64 libaria2-0 amd64 1.36.0-1 [1,086 kB]\n",
            "Get:3 http://archive.ubuntu.com/ubuntu jammy/universe amd64 aria2 amd64 1.36.0-1 [381 kB]\n",
            "Fetched 1,513 kB in 2s (687 kB/s)\n",
            "debconf: unable to initialize frontend: Dialog\n",
            "debconf: (No usable dialog-like program is installed, so the dialog based frontend cannot be used. at /usr/share/perl5/Debconf/FrontEnd/Dialog.pm line 78, <> line 3.)\n",
            "debconf: falling back to frontend: Readline\n",
            "debconf: unable to initialize frontend: Readline\n",
            "debconf: (This frontend requires a controlling tty.)\n",
            "debconf: falling back to frontend: Teletype\n",
            "dpkg-preconfigure: unable to re-open stdin: \n",
            "Selecting previously unselected package libc-ares2:amd64.\n",
            "(Reading database ... 123594 files and directories currently installed.)\n",
            "Preparing to unpack .../libc-ares2_1.18.1-1ubuntu0.22.04.3_amd64.deb ...\n",
            "Unpacking libc-ares2:amd64 (1.18.1-1ubuntu0.22.04.3) ...\n",
            "Selecting previously unselected package libaria2-0:amd64.\n",
            "Preparing to unpack .../libaria2-0_1.36.0-1_amd64.deb ...\n",
            "Unpacking libaria2-0:amd64 (1.36.0-1) ...\n",
            "Selecting previously unselected package aria2.\n",
            "Preparing to unpack .../aria2_1.36.0-1_amd64.deb ...\n",
            "Unpacking aria2 (1.36.0-1) ...\n",
            "Setting up libc-ares2:amd64 (1.18.1-1ubuntu0.22.04.3) ...\n",
            "Setting up libaria2-0:amd64 (1.36.0-1) ...\n",
            "Setting up aria2 (1.36.0-1) ...\n",
            "Processing triggers for man-db (2.10.2-1) ...\n",
            "Processing triggers for libc-bin (2.35-0ubuntu3.4) ...\n",
            "/sbin/ldconfig.real: /usr/local/lib/libtbbbind_2_0.so.3 is not a symbolic link\n",
            "\n",
            "/sbin/ldconfig.real: /usr/local/lib/libtbbbind.so.3 is not a symbolic link\n",
            "\n",
            "/sbin/ldconfig.real: /usr/local/lib/libur_loader.so.0 is not a symbolic link\n",
            "\n",
            "/sbin/ldconfig.real: /usr/local/lib/libtbbmalloc.so.2 is not a symbolic link\n",
            "\n",
            "/sbin/ldconfig.real: /usr/local/lib/libur_adapter_opencl.so.0 is not a symbolic link\n",
            "\n",
            "/sbin/ldconfig.real: /usr/local/lib/libtbbmalloc_proxy.so.2 is not a symbolic link\n",
            "\n",
            "/sbin/ldconfig.real: /usr/local/lib/libtbb.so.12 is not a symbolic link\n",
            "\n",
            "/sbin/ldconfig.real: /usr/local/lib/libur_adapter_level_zero.so.0 is not a symbolic link\n",
            "\n",
            "/sbin/ldconfig.real: /usr/local/lib/libtbbbind_2_5.so.3 is not a symbolic link\n",
            "\n"
          ]
        }
      ],
      "source": [
        "!sudo apt-get update\n",
        "!sudo apt-get install aria2"
      ]
    },
    {
      "cell_type": "code",
      "execution_count": null,
      "metadata": {
        "colab": {
          "base_uri": "https://localhost:8080/"
        },
        "id": "cAZsHNuabMfi",
        "outputId": "78c74819-211c-471b-8ad6-3a01f6f20c91"
      },
      "outputs": [
        {
          "name": "stdout",
          "output_type": "stream",
          "text": [
            "  % Total    % Received % Xferd  Average Speed   Time    Time     Time  Current\n",
            "                                 Dload  Upload   Total   Spent    Left  Speed\n",
            "  0 1849M    0 3486k    0     0   234k      0  2:14:39  0:00:14  2:14:25  138k^C\n"
          ]
        }
      ],
      "source": [
        "!curl --output /content/mudhal.mkv https://dlupload.org/File/Download?token=b1ZEa2E5NzduZVpwJTJCaGY2TUxvbHIyb0pKVzlmY2Q3VlhSRk5oV0lFczRjcmNwMzlnNFhrd0pNUndHYzQ4M2RmSThUek12aVZsWkFvSDJRODRWVWplZnJtbnpKUXNjYWlJRWZLZnRtWk04SSUyRjBHMEZBZmZUZFQzTG5TRWs1TXRocXRBTEdSYlVyJTJGeGgzV0VhbmlqTmtNY0dHMkRQN0ZhR25RRmJiJTJGRjQycktSa2Qxczdmd0VBMFc1b3pQSTVNcjdTbHh1Wk9yUXBTbmxGOGZPM0ZWdXdaU2RlaW1Rc3BwN1RKNm9GVmNHMGpkZ1JGRTZaRVF2blJxTHhaR1FpODMwZzBKbmRtN3MlMkJRZ0FUJTJGSWJTRmpGWXclM0QlM0Q"
      ]
    },
    {
      "cell_type": "code",
      "execution_count": null,
      "metadata": {
        "colab": {
          "background_save": true,
          "base_uri": "https://localhost:8080/"
        },
        "id": "t84EWcQjbQLL",
        "outputId": "243243cf-d33a-41c6-afe8-77430812c197"
      },
      "outputs": [
        {
          "name": "stdout",
          "output_type": "stream",
          "text": [
            "\n",
            "08/16 04:31:03 [\u001b[1;32mNOTICE\u001b[0m] Downloading 1 item(s)\n",
            "\n",
            "08/16 04:31:03 [\u001b[1;31mERROR\u001b[0m] CUID#11 - Download aborted. URI=https://dlupload.org/File/Download?token=b1ZEa2E5NzduZVpwJTJCaGY2TUxvbHIyb0pKVzlmY2Q3VlhSRk5oV0lFczRjcmNwMzlnNFhrd0pNUndHYzQ4M2RmSThUek12aVZsWkFvSDJRODRWVWplZnJtbnpKUXNjYWlJRWZLZnRtWk04SSUyRjBHMEZBZmZUZFQzTG5TRWs1TXRocXRBTEdSYlVyJTJGeGgzV0VhbmlqTmtNY0dHMkRQN0ZhR25RRmJiJTJGRjQycktSa2Qxczdmd0VBMFc1b3pQSTVNcjdTbHh1Wk9yUXBTbmxGOGZPM0ZWdXdaU2RlaW1Rc3BwN1RKNm9GVmNHMGpkZ1JGRTZaRVF2blJxTHhaR1FpODMwZzBKbmRtN3MlMkJRZ0FUJTJGSWJTRmpGWXclM0QlM0Q\n",
            "Exception: [AbstractCommand.cc:351] errorCode=8 URI=https://dlupload.org/File/Download?token=b1ZEa2E5NzduZVpwJTJCaGY2TUxvbHIyb0pKVzlmY2Q3VlhSRk5oV0lFczRjcmNwMzlnNFhrd0pNUndHYzQ4M2RmSThUek12aVZsWkFvSDJRODRWVWplZnJtbnpKUXNjYWlJRWZLZnRtWk04SSUyRjBHMEZBZmZUZFQzTG5TRWs1TXRocXRBTEdSYlVyJTJGeGgzV0VhbmlqTmtNY0dHMkRQN0ZhR25RRmJiJTJGRjQycktSa2Qxczdmd0VBMFc1b3pQSTVNcjdTbHh1Wk9yUXBTbmxGOGZPM0ZWdXdaU2RlaW1Rc3BwN1RKNm9GVmNHMGpkZ1JGRTZaRVF2blJxTHhaR1FpODMwZzBKbmRtN3MlMkJRZ0FUJTJGSWJTRmpGWXclM0QlM0Q\n",
            "  -> [HttpResponse.cc:81] errorCode=8 Invalid range header. Request: 1455423488-1939191408/1939191409, Response: 0-1939191408/1939191409\n",
            "\n",
            "08/16 04:31:04 [\u001b[1;31mERROR\u001b[0m] CUID#10 - Download aborted. URI=https://dlupload.org/File/Download?token=b1ZEa2E5NzduZVpwJTJCaGY2TUxvbHIyb0pKVzlmY2Q3VlhSRk5oV0lFczRjcmNwMzlnNFhrd0pNUndHYzQ4M2RmSThUek12aVZsWkFvSDJRODRWVWplZnJtbnpKUXNjYWlJRWZLZnRtWk04SSUyRjBHMEZBZmZUZFQzTG5TRWs1TXRocXRBTEdSYlVyJTJGeGgzV0VhbmlqTmtNY0dHMkRQN0ZhR25RRmJiJTJGRjQycktSa2Qxczdmd0VBMFc1b3pQSTVNcjdTbHh1Wk9yUXBTbmxGOGZPM0ZWdXdaU2RlaW1Rc3BwN1RKNm9GVmNHMGpkZ1JGRTZaRVF2blJxTHhaR1FpODMwZzBKbmRtN3MlMkJRZ0FUJTJGSWJTRmpGWXclM0QlM0Q\n",
            "Exception: [AbstractCommand.cc:351] errorCode=8 URI=https://dlupload.org/File/Download?token=b1ZEa2E5NzduZVpwJTJCaGY2TUxvbHIyb0pKVzlmY2Q3VlhSRk5oV0lFczRjcmNwMzlnNFhrd0pNUndHYzQ4M2RmSThUek12aVZsWkFvSDJRODRWVWplZnJtbnpKUXNjYWlJRWZLZnRtWk04SSUyRjBHMEZBZmZUZFQzTG5TRWs1TXRocXRBTEdSYlVyJTJGeGgzV0VhbmlqTmtNY0dHMkRQN0ZhR25RRmJiJTJGRjQycktSa2Qxczdmd0VBMFc1b3pQSTVNcjdTbHh1Wk9yUXBTbmxGOGZPM0ZWdXdaU2RlaW1Rc3BwN1RKNm9GVmNHMGpkZ1JGRTZaRVF2blJxTHhaR1FpODMwZzBKbmRtN3MlMkJRZ0FUJTJGSWJTRmpGWXclM0QlM0Q\n",
            "  -> [HttpResponse.cc:81] errorCode=8 Invalid range header. Request: 485490688-969932799/1939191409, Response: 0-1939191408/1939191409\n",
            "\u001b[0m\n",
            "08/16 04:31:04 [\u001b[1;31mERROR\u001b[0m] CUID#9 - Download aborted. URI=https://dlupload.org/File/Download?token=b1ZEa2E5NzduZVpwJTJCaGY2TUxvbHIyb0pKVzlmY2Q3VlhSRk5oV0lFczRjcmNwMzlnNFhrd0pNUndHYzQ4M2RmSThUek12aVZsWkFvSDJRODRWVWplZnJtbnpKUXNjYWlJRWZLZnRtWk04SSUyRjBHMEZBZmZUZFQzTG5TRWs1TXRocXRBTEdSYlVyJTJGeGgzV0VhbmlqTmtNY0dHMkRQN0ZhR25RRmJiJTJGRjQycktSa2Qxczdmd0VBMFc1b3pQSTVNcjdTbHh1Wk9yUXBTbmxGOGZPM0ZWdXdaU2RlaW1Rc3BwN1RKNm9GVmNHMGpkZ1JGRTZaRVF2blJxTHhaR1FpODMwZzBKbmRtN3MlMkJRZ0FUJTJGSWJTRmpGWXclM0QlM0Q\n",
            "Exception: [AbstractCommand.cc:351] errorCode=8 URI=https://dlupload.org/File/Download?token=b1ZEa2E5NzduZVpwJTJCaGY2TUxvbHIyb0pKVzlmY2Q3VlhSRk5oV0lFczRjcmNwMzlnNFhrd0pNUndHYzQ4M2RmSThUek12aVZsWkFvSDJRODRWVWplZnJtbnpKUXNjYWlJRWZLZnRtWk04SSUyRjBHMEZBZmZUZFQzTG5TRWs1TXRocXRBTEdSYlVyJTJGeGgzV0VhbmlqTmtNY0dHMkRQN0ZhR25RRmJiJTJGRjQycktSa2Qxczdmd0VBMFc1b3pQSTVNcjdTbHh1Wk9yUXBTbmxGOGZPM0ZWdXdaU2RlaW1Rc3BwN1RKNm9GVmNHMGpkZ1JGRTZaRVF2blJxTHhaR1FpODMwZzBKbmRtN3MlMkJRZ0FUJTJGSWJTRmpGWXclM0QlM0Q\n",
            "  -> [HttpResponse.cc:81] errorCode=8 Invalid range header. Request: 969932800-1455423487/1939191409, Response: 0-1939191408/1939191409\n",
            "\n",
            "08/16 04:31:04 [\u001b[1;31mERROR\u001b[0m] CUID#12 - Download aborted. URI=https://dlupload.org/File/Download?token=b1ZEa2E5NzduZVpwJTJCaGY2TUxvbHIyb0pKVzlmY2Q3VlhSRk5oV0lFczRjcmNwMzlnNFhrd0pNUndHYzQ4M2RmSThUek12aVZsWkFvSDJRODRWVWplZnJtbnpKUXNjYWlJRWZLZnRtWk04SSUyRjBHMEZBZmZUZFQzTG5TRWs1TXRocXRBTEdSYlVyJTJGeGgzV0VhbmlqTmtNY0dHMkRQN0ZhR25RRmJiJTJGRjQycktSa2Qxczdmd0VBMFc1b3pQSTVNcjdTbHh1Wk9yUXBTbmxGOGZPM0ZWdXdaU2RlaW1Rc3BwN1RKNm9GVmNHMGpkZ1JGRTZaRVF2blJxTHhaR1FpODMwZzBKbmRtN3MlMkJRZ0FUJTJGSWJTRmpGWXclM0QlM0Q\n",
            "Exception: [AbstractCommand.cc:351] errorCode=8 URI=https://dlupload.org/File/Download?token=b1ZEa2E5NzduZVpwJTJCaGY2TUxvbHIyb0pKVzlmY2Q3VlhSRk5oV0lFczRjcmNwMzlnNFhrd0pNUndHYzQ4M2RmSThUek12aVZsWkFvSDJRODRWVWplZnJtbnpKUXNjYWlJRWZLZnRtWk04SSUyRjBHMEZBZmZUZFQzTG5TRWs1TXRocXRBTEdSYlVyJTJGeGgzV0VhbmlqTmtNY0dHMkRQN0ZhR25RRmJiJTJGRjQycktSa2Qxczdmd0VBMFc1b3pQSTVNcjdTbHh1Wk9yUXBTbmxGOGZPM0ZWdXdaU2RlaW1Rc3BwN1RKNm9GVmNHMGpkZ1JGRTZaRVF2blJxTHhaR1FpODMwZzBKbmRtN3MlMkJRZ0FUJTJGSWJTRmpGWXclM0QlM0Q\n",
            "  -> [HttpResponse.cc:81] errorCode=8 Invalid range header. Request: 243269632-485490687/1939191409, Response: 0-1939191408/1939191409\n",
            " *** Download Progress Summary as of Fri Aug 16 04:32:03 2024 *** \n",
            "=\n",
            "[#67fedd 235MiB/1.8GiB(12%) CN:1 DL:3.9MiB ETA:6m47s]\n",
            "FILE: /content//content/d/mudhal.mkv\n",
            "-\n",
            "\n",
            " *** Download Progress Summary as of Fri Aug 16 04:33:03 2024 *** \n",
            "=\n",
            "[#67fedd 479MiB/1.8GiB(25%) CN:1 DL:4.0MiB ETA:5m35s]\n",
            "FILE: /content//content/d/mudhal.mkv\n",
            "-\n",
            "\n",
            " *** Download Progress Summary as of Fri Aug 16 04:34:04 2024 *** \n",
            "=\n",
            "[#67fedd 723MiB/1.8GiB(39%) CN:1 DL:4.1MiB ETA:4m33s]\n",
            "FILE: /content//content/d/mudhal.mkv\n",
            "-\n",
            "\n",
            " *** Download Progress Summary as of Fri Aug 16 04:35:05 2024 *** \n",
            "=\n",
            "[#67fedd 0.9GiB/1.8GiB(52%) CN:1 DL:4.1MiB ETA:3m30s]\n",
            "FILE: /content//content/d/mudhal.mkv\n",
            "-\n",
            "\n",
            " *** Download Progress Summary as of Fri Aug 16 04:36:06 2024 *** \n",
            "=\n",
            "[#67fedd 1.1GiB/1.8GiB(65%) CN:1 DL:4.0MiB ETA:2m37s]\n",
            "FILE: /content//content/d/mudhal.mkv\n",
            "-\n",
            "\n",
            " *** Download Progress Summary as of Fri Aug 16 04:37:06 2024 *** \n",
            "=\n",
            "[#67fedd 1.4GiB/1.8GiB(79%) CN:1 DL:4.0MiB ETA:1m35s]\n",
            "FILE: /content//content/d/mudhal.mkv\n",
            "-\n",
            "\n",
            " *** Download Progress Summary as of Fri Aug 16 04:38:07 2024 *** \n",
            "=\n",
            "[#67fedd 1.6GiB/1.8GiB(92%) CN:1 DL:4.0MiB ETA:33s]\n",
            "FILE: /content//content/d/mudhal.mkv\n",
            "-\n",
            "\n",
            "\u001b[0m\n",
            "08/16 04:38:41 [\u001b[1;32mNOTICE\u001b[0m] Download complete: /content//content/d/mudhal.mkv\n",
            "\n",
            "Download Results:\n",
            "gid   |stat|avg speed  |path/URI\n",
            "======+====+===========+=======================================================\n",
            "67fedd|\u001b[1;32mOK\u001b[0m  |   4.0MiB/s|/content//content/d/mudhal.mkv\n",
            "\n",
            "Status Legend:\n",
            "(OK):download completed.\n"
          ]
        }
      ],
      "source": [
        "!aria2c -x 16 -o /content/d/mudhal.mkv https://dlupload.org/File/Download?token=b1ZEa2E5NzduZVpwJTJCaGY2TUxvbHIyb0pKVzlmY2Q3VlhSRk5oV0lFczRjcmNwMzlnNFhrd0pNUndHYzQ4M2RmSThUek12aVZsWkFvSDJRODRWVWplZnJtbnpKUXNjYWlJRWZLZnRtWk04SSUyRjBHMEZBZmZUZFQzTG5TRWs1TXRocXRBTEdSYlVyJTJGeGgzV0VhbmlqTmtNY0dHMkRQN0ZhR25RRmJiJTJGRjQycktSa2Qxczdmd0VBMFc1b3pQSTVNcjdTbHh1Wk9yUXBTbmxGOGZPM0ZWdXdaU2RlaW1Rc3BwN1RKNm9GVmNHMGpkZ1JGRTZaRVF2blJxTHhaR1FpODMwZzBKbmRtN3MlMkJRZ0FUJTJGSWJTRmpGWXclM0QlM0Q"
      ]
    },
    {
      "cell_type": "code",
      "execution_count": null,
      "metadata": {
        "id": "D7tYAPSgcjPm"
      },
      "outputs": [],
      "source": []
    }
  ],
  "metadata": {
    "colab": {
      "provenance": [],
      "include_colab_link": true
    },
    "kernelspec": {
      "display_name": "Python 3",
      "name": "python3"
    },
    "language_info": {
      "name": "python"
    }
  },
  "nbformat": 4,
  "nbformat_minor": 0
}
